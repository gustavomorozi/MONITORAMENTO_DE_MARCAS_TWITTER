{
 "cells": [
  {
   "cell_type": "code",
   "execution_count": 351,
   "metadata": {
    "colab": {
     "base_uri": "https://localhost:8080/",
     "height": 170
    },
    "colab_type": "code",
    "executionInfo": {
     "elapsed": 7101,
     "status": "ok",
     "timestamp": 1572803534352,
     "user": {
      "displayName": "Gustavo Morozi",
      "photoUrl": "https://lh3.googleusercontent.com/a-/AAuE7mByW0rsjc2JLOgtMEJbLYI-wp-fX33YcI07IA3b2g=s64",
      "userId": "12380855071894952955"
     },
     "user_tz": 120
    },
    "id": "3_ALg-Uc5dvZ",
    "outputId": "651bc27e-3023-4b5f-98f3-87e402acfe0a"
   },
   "outputs": [],
   "source": [
    "# Importando as bibliotecas \n",
    "import numpy as np\n",
    "import pandas as pd\n",
    "import twitter\n",
    "import json\n",
    "import nltk\n",
    "import matplotlib.pyplot as plt\n",
    "from sklearn.model_selection import train_test_split\n",
    "\n",
    "\n",
    "%matplotlib inline\n",
    " "
   ]
  },
  {
   "cell_type": "code",
   "execution_count": 307,
   "metadata": {},
   "outputs": [],
   "source": [
    "df_twitter = pd.read_csv(\"BaseTwitter -ORIGINAL.csv\",sep=\",\",encoding=\"ISO-8859-1\")"
   ]
  },
  {
   "cell_type": "code",
   "execution_count": 308,
   "metadata": {},
   "outputs": [],
   "source": [
    "base_treinamento, base_teste=train_test_split(df_twitter)  #75% para treino e 25% para teste"
   ]
  },
  {
   "cell_type": "code",
   "execution_count": 309,
   "metadata": {},
   "outputs": [
    {
     "name": "stdout",
     "output_type": "stream",
     "text": [
      "Tamanho da base de Treinamento 2998\n"
     ]
    },
    {
     "data": {
      "text/plain": [
       "alegria     1576\n",
       "tristeza    1422\n",
       "Name: Sentimento, dtype: int64"
      ]
     },
     "execution_count": 309,
     "metadata": {},
     "output_type": "execute_result"
    }
   ],
   "source": [
    "# Transforma base em pandas\n",
    "Analise_Treinamento=pd.DataFrame(base_treinamento)\n",
    "\n",
    "#Dá nome as colunas\n",
    "Analise_Treinamento.columns=['Frase','Sentimento']\n",
    "\n",
    "# Mostra tamanho da base de treinamento\n",
    "print('Tamanho da base de Treinamento {}'.format(Analise_Treinamento.shape[0]))\n",
    "\n",
    "# Mostra quantidade de cada tipo de sentimento\n",
    "Analise_Treinamento.Sentimento.value_counts()"
   ]
  },
  {
   "cell_type": "code",
   "execution_count": 310,
   "metadata": {},
   "outputs": [
    {
     "name": "stdout",
     "output_type": "stream",
     "text": [
      "alegria     52.568379\n",
      "tristeza    47.431621\n",
      "Name: Sentimento, dtype: float64\n"
     ]
    }
   ],
   "source": [
    "# Percentual de cada tipo de sentimento\n",
    "print((Analise_Treinamento.Sentimento.value_counts()/Analise_Treinamento.shape[0])*100)"
   ]
  },
  {
   "cell_type": "code",
   "execution_count": 311,
   "metadata": {},
   "outputs": [
    {
     "name": "stdout",
     "output_type": "stream",
     "text": [
      "Tamanho da base de Teste 1000\n"
     ]
    },
    {
     "data": {
      "text/plain": [
       "alegria     510\n",
       "tristeza    490\n",
       "Name: Sentimento, dtype: int64"
      ]
     },
     "execution_count": 311,
     "metadata": {},
     "output_type": "execute_result"
    }
   ],
   "source": [
    "# Criar base teste\n",
    "# Transforma base em pandas\n",
    "Analise_Teste=pd.DataFrame(base_teste)\n",
    "\n",
    "#Dá nome as colunas\n",
    "Analise_Teste.columns=['Frase','Sentimento']\n",
    "\n",
    "# Mostra tamanho da base de treinamento\n",
    "print('Tamanho da base de Teste {}'.format(Analise_Teste.shape[0]))\n",
    "\n",
    "# Mostra quantidade de cada tipo de sentimento\n",
    "Analise_Teste.Sentimento.value_counts()"
   ]
  },
  {
   "cell_type": "code",
   "execution_count": 312,
   "metadata": {},
   "outputs": [
    {
     "data": {
      "text/plain": [
       "array(['de', 'a', 'o', 'que', 'e', 'é', 'do', 'da', 'em', 'um', 'para',\n",
       "       'com', 'não', 'uma', 'os', 'no', 'se', 'na', 'por', 'mais', 'as',\n",
       "       'dos', 'como', 'mas', 'ao', 'ele', 'das', 'à', 'seu', 'sua', 'ou',\n",
       "       'quando', 'muito', 'nos', 'já', 'eu', 'também', 'só', 'pelo',\n",
       "       'pela', 'até', 'isso', 'ela', 'entre', 'depois', 'sem', 'mesmo',\n",
       "       'aos', 'seus', 'quem', 'nas', 'me', 'esse', 'eles', 'você', 'essa',\n",
       "       'num', 'nem', 'suas', 'meu', 'às', 'minha', 'numa', 'pelos',\n",
       "       'elas', 'qual', 'nós', 'lhe', 'deles', 'essas', 'esses', 'pelas',\n",
       "       'este', 'dele', 'tu', 'te', 'vocês', 'vos', 'lhes', 'meus',\n",
       "       'minhas', 'teu', 'tua', 'teus', 'tuas', 'nosso', 'nossa', 'nossos',\n",
       "       'nossas', 'dela', 'delas', 'esta', 'estes', 'estas', 'aquele',\n",
       "       'aquela', 'aqueles', 'aquelas', 'isto', 'aquilo', 'estou', 'está',\n",
       "       'estamos', 'estão', 'estive', 'esteve', 'estivemos', 'estiveram',\n",
       "       'estava', 'estávamos', 'estavam', 'estivera', 'estivéramos',\n",
       "       'esteja', 'estejamos', 'estejam', 'estivesse', 'estivéssemos',\n",
       "       'estivessem', 'estiver', 'estivermos', 'estiverem', 'hei', 'há',\n",
       "       'havemos', 'hão', 'houve', 'houvemos', 'houveram', 'houvera',\n",
       "       'houvéramos', 'haja', 'hajamos', 'hajam', 'houvesse',\n",
       "       'houvéssemos', 'houvessem', 'houver', 'houvermos', 'houverem',\n",
       "       'houverei', 'houverá', 'houveremos', 'houverão', 'houveria',\n",
       "       'houveríamos', 'houveriam', 'sou', 'somos', 'são', 'era', 'éramos',\n",
       "       'eram', 'fui', 'foi', 'fomos', 'foram', 'fora', 'fôramos', 'seja',\n",
       "       'sejamos', 'sejam', 'fosse', 'fôssemos', 'fossem', 'for', 'formos',\n",
       "       'forem', 'serei', 'será', 'seremos', 'serão', 'seria', 'seríamos',\n",
       "       'seriam', 'tenho', 'tem', 'temos', 'tém', 'tinha', 'tínhamos',\n",
       "       'tinham', 'tive', 'teve', 'tivemos', 'tiveram', 'tivera',\n",
       "       'tivéramos', 'tenha', 'tenhamos', 'tenham', 'tivesse',\n",
       "       'tivéssemos', 'tivessem', 'tiver', 'tivermos', 'tiverem', 'terei',\n",
       "       'terá', 'teremos', 'terão', 'teria', 'teríamos', 'teriam'],\n",
       "      dtype='<U12')"
      ]
     },
     "execution_count": 312,
     "metadata": {},
     "output_type": "execute_result"
    }
   ],
   "source": [
    "#nltk.download('stopwords')\n",
    "lista_Stop=nltk.corpus.stopwords.words('portuguese')\n",
    "np.transpose(lista_Stop)"
   ]
  },
  {
   "cell_type": "code",
   "execution_count": 313,
   "metadata": {},
   "outputs": [],
   "source": [
    "# Função que retira StopWords\n",
    "def RemoveStopWords(texto):\n",
    "    frases=[]\n",
    "    for (palavras, sentimento) in texto:\n",
    "        #Criamos uma list compreheension para extrair apenas as palavras que não estão na list_stop\n",
    "        semStop= [ p for p in palavras.split() if p not in lista_Stop]\n",
    "        #Inserindo as frases com os Labels (sentimento) ja tatadas pela Lista_Stop\n",
    "        frases.append((semStop,sentimento))\n",
    "    return frases"
   ]
  },
  {
   "cell_type": "code",
   "execution_count": 314,
   "metadata": {},
   "outputs": [],
   "source": [
    "# Steemer= técnica de remover sufixos e prefixos de uma palavra,Por exemplo, o stem da palavra cooking é cook. Um bom algoritmo sabe que “ing” é um sufixo e pode ser removido.\n",
    "#nltk.download('rslp')\n",
    "def aplica_Stemmer(texto):\n",
    "    stemmer=nltk.stem.RSLPStemmer()\n",
    "    #Escolhido o RSLPS pois é especifico da língua portuguesas\n",
    "    frases_sem_Stemming=[]\n",
    "    for (palavras, sentimento) in texto:\n",
    "        com_Stemming=[str(stemmer.stem(p)) for p in palavras.split() if p not in lista_Stop]\n",
    "        frases_sem_Stemming.append((com_Stemming,sentimento))\n",
    "    return frases_sem_Stemming"
   ]
  },
  {
   "cell_type": "code",
   "execution_count": 315,
   "metadata": {},
   "outputs": [],
   "source": [
    "#Transforma base de treinamento em um array\n",
    "base_treinamento=np.array(base_treinamento)"
   ]
  },
  {
   "cell_type": "code",
   "execution_count": 316,
   "metadata": {},
   "outputs": [],
   "source": [
    "# Aplica o Stemer na Frase\n",
    "# Transformar em vetor está dando problema\n",
    "frases_com_Stem_treinamento=aplica_Stemmer(base_treinamento)"
   ]
  },
  {
   "cell_type": "code",
   "execution_count": 317,
   "metadata": {},
   "outputs": [],
   "source": [
    "#Transforma base de teste em um array\n",
    "base_teste=np.array(base_teste)"
   ]
  },
  {
   "cell_type": "code",
   "execution_count": 318,
   "metadata": {},
   "outputs": [],
   "source": [
    "# Aplica Stem na base de teste\n",
    "frases_com_Stem_teste=aplica_Stemmer(base_teste)"
   ]
  },
  {
   "cell_type": "code",
   "execution_count": 319,
   "metadata": {},
   "outputs": [],
   "source": [
    "# Cria função para retornar as palavras da frase, sem a classificação(sentimento)\n",
    "def busca_Palavras(frases):\n",
    "    todas_Palavras=[]\n",
    "    for (palavras,sentimento) in frases:\n",
    "        todas_Palavras.extend(palavras)\n",
    "    return todas_Palavras"
   ]
  },
  {
   "cell_type": "code",
   "execution_count": 320,
   "metadata": {},
   "outputs": [],
   "source": [
    "# Aplica função acima em cada base\n",
    "palavras_treinamento=busca_Palavras(frases_com_Stem_treinamento)\n",
    "palavras_teste=busca_Palavras(frases_com_Stem_teste)"
   ]
  },
  {
   "cell_type": "code",
   "execution_count": 321,
   "metadata": {},
   "outputs": [
    {
     "name": "stdout",
     "output_type": "stream",
     "text": [
      "Quantidade de palavras Treinamento 0    37021\n",
      "dtype: int64\n",
      "Quantidade de palavras Teste 0    12943\n",
      "dtype: int64\n"
     ]
    }
   ],
   "source": [
    "# Mostra quantidade de palavras na base\n",
    "print (\"Quantidade de palavras Treinamento {}\".format(pd.DataFrame(palavras_treinamento).count()))\n",
    "print (\"Quantidade de palavras Teste {}\".format(pd.DataFrame(palavras_teste).count()))"
   ]
  },
  {
   "cell_type": "code",
   "execution_count": 322,
   "metadata": {},
   "outputs": [],
   "source": [
    "# Função para verificar a quantidade de vezes que a palavras é mencionada\n",
    "def busca_frequencia(palavras):\n",
    "    palavras=nltk.FreqDist(palavras)\n",
    "    return palavras"
   ]
  },
  {
   "cell_type": "code",
   "execution_count": 323,
   "metadata": {},
   "outputs": [],
   "source": [
    "# Chama função acima\n",
    "frequencia_treinamento=busca_frequencia(palavras_treinamento)"
   ]
  },
  {
   "cell_type": "code",
   "execution_count": 324,
   "metadata": {},
   "outputs": [
    {
     "data": {
      "text/plain": [
       "[('iphon', 2964),\n",
       " ('compr', 568),\n",
       " ('quebr', 505),\n",
       " ('ganh', 451),\n",
       " ('estrag', 412),\n",
       " ('nã£', 399),\n",
       " ('troq', 392),\n",
       " ('molh', 360),\n",
       " ('pra', 324),\n",
       " ('consert', 314),\n",
       " ('q', 300),\n",
       " ('celul', 294),\n",
       " ('meu', 281),\n",
       " ('caiu', 272),\n",
       " ('eu', 247),\n",
       " ('ã©', 235),\n",
       " ('iphone,', 235),\n",
       " ('to', 189),\n",
       " ('arrum', 179),\n",
       " (',', 177)]"
      ]
     },
     "execution_count": 324,
     "metadata": {},
     "output_type": "execute_result"
    }
   ],
   "source": [
    "# A função most_common do NLTK possibilita visualizar quais as palavras que ocorrem com maior frequência em nosso texto.\n",
    "frequencia_treinamento.most_common(20)"
   ]
  },
  {
   "cell_type": "code",
   "execution_count": 325,
   "metadata": {},
   "outputs": [],
   "source": [
    "# Executa função parecida com a mostcommon\n",
    "frequencia_teste=busca_frequencia(palavras_teste)"
   ]
  },
  {
   "cell_type": "code",
   "execution_count": 326,
   "metadata": {},
   "outputs": [],
   "source": [
    "# Função para retornar somente as palavras unicas\n",
    "def busca_palavras_unicas(frequencia):\n",
    "    freq=frequencia.keys()\n",
    "    return freq\n",
    "\n",
    "# Chama função acima\n",
    "palavras_unicas_treinamento=busca_palavras_unicas(frequencia_treinamento)\n",
    "palavras_unicas_teste=busca_palavras_unicas(frequencia_teste)"
   ]
  },
  {
   "cell_type": "code",
   "execution_count": 327,
   "metadata": {},
   "outputs": [],
   "source": [
    "# Cria função para identificar quais as palavras únicas estão no docuemnto passado para a função\n",
    "def extrator_palavras(documento):\n",
    "        #Utilizado set() para associar a variável doc.com o parametro que esta chegando\n",
    "        doc=set(documento)\n",
    "        caracteristicas={}\n",
    "        for palavras in palavras_unicas_treinamento:\n",
    "            caracteristicas['%s' % palavras]=(palavras in doc)\n",
    "        return caracteristicas"
   ]
  },
  {
   "cell_type": "code",
   "execution_count": 328,
   "metadata": {},
   "outputs": [],
   "source": [
    "# devido a necessidade de aplciação da função Extrato_Palavras sobre as bases de Treinamento e Teste, como a variável palavras_unicas_teste exige aplicação isolada, precisamos criar uma função apartada somente\n",
    "# para a base de teste\n",
    "def extrator_palavras_teste(documento):\n",
    "    doc=set(documento)\n",
    "    caracteristicas={}\n",
    "    for palavras in palavras_unicas_teste:\n",
    "        caracteristicas['%s' % palavras]=(palavras in doc)\n",
    "    return caracteristicas"
   ]
  },
  {
   "cell_type": "code",
   "execution_count": 329,
   "metadata": {},
   "outputs": [],
   "source": [
    "base_completa_treinamento=nltk.classify.apply_features(extrator_palavras, frases_com_Stem_treinamento)\n",
    "base_completa_teste=nltk.classify.apply_features(extrator_palavras_teste,frases_com_Stem_teste)"
   ]
  },
  {
   "cell_type": "code",
   "execution_count": 330,
   "metadata": {},
   "outputs": [
    {
     "name": "stdout",
     "output_type": "stream",
     "text": [
      "['alegria', 'tristeza']\n"
     ]
    }
   ],
   "source": [
    "# O algoritmo NaiveBayes monta a tabela de probabilidade\n",
    "classificador=nltk.NaiveBayesClassifier.train(base_completa_treinamento)\n",
    "print(classificador.labels())"
   ]
  },
  {
   "cell_type": "code",
   "execution_count": 331,
   "metadata": {},
   "outputs": [
    {
     "name": "stdout",
     "output_type": "stream",
     "text": [
      "Most Informative Features\n",
      "                       @ = True           triste : alegri =     41.9 : 1.0\n",
      "                  estrag = True           triste : alegri =     39.1 : 1.0\n",
      "                    caiu = True           triste : alegri =     36.3 : 1.0\n",
      "                 consert = True           alegri : triste =     25.1 : 1.0\n",
      "                   xiaom = True           alegri : triste =     22.6 : 1.0\n",
      "                  derrub = True           triste : alegri =     19.3 : 1.0\n",
      "                       ' = True           triste : alegri =     18.8 : 1.0\n",
      "                       . = True           triste : alegri =     18.4 : 1.0\n",
      "                 acontec = True           triste : alegri =     15.9 : 1.0\n",
      "                   quebr = True           triste : alegri =     14.9 : 1.0\n",
      "None\n"
     ]
    }
   ],
   "source": [
    "print(classificador.show_most_informative_features(10))"
   ]
  },
  {
   "cell_type": "code",
   "execution_count": 332,
   "metadata": {},
   "outputs": [
    {
     "name": "stdout",
     "output_type": "stream",
     "text": [
      "0.985657104736491\n"
     ]
    }
   ],
   "source": [
    "# Verifica a acuracia do modelo com a base de treinamento\n",
    "print(nltk.classify.accuracy(classificador,base_completa_treinamento))"
   ]
  },
  {
   "cell_type": "code",
   "execution_count": 333,
   "metadata": {},
   "outputs": [],
   "source": [
    "# Agrega linhas com erros de classificação\n",
    "erros=[]\n",
    "for (frase,classe) in base_completa_treinamento:\n",
    "    #print(frase)\n",
    "    #print(classe)\n",
    "    resultado=classificador.classify(frase)\n",
    "    if resultado != classe:\n",
    "        erros.append((classe,resultado,frase))"
   ]
  },
  {
   "cell_type": "code",
   "execution_count": 334,
   "metadata": {},
   "outputs": [
    {
     "name": "stdout",
     "output_type": "stream",
     "text": [
      "         |         t |\n",
      "         |    a    r |\n",
      "         |    l    i |\n",
      "         |    e    s |\n",
      "         |    g    t |\n",
      "         |    r    e |\n",
      "         |    i    z |\n",
      "         |    a    a |\n",
      "---------+-----------+\n",
      " alegria |<1565>  11 |\n",
      "tristeza |   32<1390>|\n",
      "---------+-----------+\n",
      "(row = reference; col = test)\n",
      "\n"
     ]
    }
   ],
   "source": [
    "# Cria matriz de confusão para de treinamento\n",
    "from nltk.metrics import ConfusionMatrix\n",
    "esperado=[]\n",
    "previsto=[]\n",
    "for teste in base_completa_treinamento:\n",
    "    resultado=classificador.classify(teste[0])\n",
    "    previsto.append(resultado)\n",
    "    esperado.append(teste[1])\n",
    "\n",
    "matriz=ConfusionMatrix(esperado,previsto)\n",
    "print (matriz)\n",
    "\n"
   ]
  },
  {
   "cell_type": "code",
   "execution_count": 335,
   "metadata": {},
   "outputs": [
    {
     "name": "stdout",
     "output_type": "stream",
     "text": [
      "         |       t |\n",
      "         |   a   r |\n",
      "         |   l   i |\n",
      "         |   e   s |\n",
      "         |   g   t |\n",
      "         |   r   e |\n",
      "         |   i   z |\n",
      "         |   a   a |\n",
      "---------+---------+\n",
      " alegria |<501>  9 |\n",
      "tristeza |  19<471>|\n",
      "---------+---------+\n",
      "(row = reference; col = test)\n",
      "\n"
     ]
    }
   ],
   "source": [
    "# Cria matriz de confusão para de teste\n",
    "from nltk.metrics import ConfusionMatrix\n",
    "esperado=[]\n",
    "previsto=[]\n",
    "for teste in base_completa_teste:\n",
    "    resultado=classificador.classify(teste[0])\n",
    "    previsto.append(resultado)\n",
    "    esperado.append(teste[1])\n",
    "matriz=ConfusionMatrix(esperado,previsto)\n",
    "\n",
    "print (matriz)\n",
    "\n"
   ]
  },
  {
   "cell_type": "code",
   "execution_count": 336,
   "metadata": {},
   "outputs": [
    {
     "name": "stdout",
     "output_type": "stream",
     "text": [
      "alegria: 0.837594\n",
      "tristeza: 0.162406\n",
      "Resultado final: alegria\n"
     ]
    }
   ],
   "source": [
    "teste=\"Comprei um celular novo!\"\n",
    "testeStemming=[]\n",
    "stemmer=nltk.stem.RSLPStemmer()\n",
    "for (palavras_treinamento) in teste.split():\n",
    "    comStem=[p for p in palavras_treinamento.split()]\n",
    "    testeStemming.append(str(stemmer.stem(comStem[0])))\n",
    "\n",
    "novo=extrator_palavras(testeStemming)\n",
    "#print(classificador.classify(novo))\n",
    "distribuicao = classificador.prob_classify(novo)\n",
    "resultado_final=classificador.classify(novo)\n",
    "for classe in distribuicao.samples():\n",
    "    print('%s: %f' % (classe, distribuicao.prob(classe)))\n",
    "    \n",
    "print(\"Resultado final: \"+ resultado_final)\n",
    "    "
   ]
  },
  {
   "cell_type": "code",
   "execution_count": 337,
   "metadata": {
    "scrolled": true
   },
   "outputs": [],
   "source": [
    "###Vendo no Twitter % de sentimento"
   ]
  },
  {
   "cell_type": "code",
   "execution_count": 338,
   "metadata": {},
   "outputs": [
    {
     "name": "stdout",
     "output_type": "stream",
     "text": [
      "{\"created_at\": \"Thu Apr 04 00:04:42 +0000 2013\", \"default_profile\": true, \"favourites_count\": 38, \"followers_count\": 108, \"friends_count\": 1326, \"id\": 1325712606, \"id_str\": \"1325712606\", \"listed_count\": 80, \"name\": \"Gustavo Morozi\", \"profile_background_color\": \"C0DEED\", \"profile_background_image_url\": \"http://abs.twimg.com/images/themes/theme1/bg.png\", \"profile_background_image_url_https\": \"https://abs.twimg.com/images/themes/theme1/bg.png\", \"profile_banner_url\": \"https://pbs.twimg.com/profile_banners/1325712606/1482203973\", \"profile_image_url\": \"http://pbs.twimg.com/profile_images/811048272970338308/Tb1Axe5E_normal.jpg\", \"profile_image_url_https\": \"https://pbs.twimg.com/profile_images/811048272970338308/Tb1Axe5E_normal.jpg\", \"profile_link_color\": \"1DA1F2\", \"profile_sidebar_border_color\": \"C0DEED\", \"profile_sidebar_fill_color\": \"DDEEF6\", \"profile_text_color\": \"333333\", \"profile_use_background_image\": true, \"screen_name\": \"gustavomorozi\", \"status\": {\"created_at\": \"Sun Mar 15 20:30:57 +0000 2020\", \"id\": 1239287993195732993, \"id_str\": \"1239287993195732993\", \"lang\": \"en\", \"source\": \"<a href=\\\"http://twitter.com\\\" rel=\\\"nofollow\\\">Twitter Web Client</a>\", \"text\": \"I found a #cloud #torrent that's awesome ;) @seedrcoil it's FREE just give it a try! https://t.co/ia45Boi1Re\"}, \"statuses_count\": 81}\n"
     ]
    }
   ],
   "source": [
    "#Carrega Arquivo de configuração\n",
    "with open('tokens.json') as f:\n",
    "    data = json.load(f)\n",
    "    \n",
    "#Carrega a API do Twitter, utilizando os dados do arquivo json:\n",
    "api = twitter.Api(**data)\n",
    "\n",
    "# Printa a credencial\n",
    "print(api.VerifyCredentials())"
   ]
  },
  {
   "cell_type": "code",
   "execution_count": 339,
   "metadata": {},
   "outputs": [],
   "source": [
    "#Busca por termos\n",
    "status_list = api.GetSearch(term=\"iphone -filter:retweets\",\n",
    "                            lang='pt',\n",
    "                            count=100,\n",
    "                            result_type='recent' )\n",
    "\n",
    "\n",
    "# Percorre o Array \n",
    "users_locs = [[tweet.text,\"Sem resposta\"] for tweet in status_list]\n",
    "\n",
    "# Cria um pandas \n",
    "tweet_text = pd.DataFrame(data=users_locs, \n",
    "                    columns=[\"Tweet\",\"Resposta\"])\n"
   ]
  },
  {
   "cell_type": "code",
   "execution_count": 340,
   "metadata": {},
   "outputs": [],
   "source": [
    "#Transforma base de twitter\n",
    "base_twitter=np.array(tweet_text)\n",
    "\n"
   ]
  },
  {
   "cell_type": "code",
   "execution_count": 341,
   "metadata": {},
   "outputs": [],
   "source": [
    "# Aplica Stem na base de twitter \n",
    "frases_com_Stem_twitter=aplica_Stemmer(base_twitter)\n"
   ]
  },
  {
   "cell_type": "code",
   "execution_count": 342,
   "metadata": {},
   "outputs": [],
   "source": [
    "# Aplica função acima em cada base\n",
    "palavras_twitter=busca_Palavras(frases_com_Stem_twitter)\n"
   ]
  },
  {
   "cell_type": "code",
   "execution_count": 343,
   "metadata": {},
   "outputs": [
    {
     "name": "stdout",
     "output_type": "stream",
     "text": [
      "Quantidade de palavras twitter 0    953\n",
      "dtype: int64\n"
     ]
    }
   ],
   "source": [
    "# Mostra quantidade de palavras na base\n",
    "print (\"Quantidade de palavras twitter {}\".format(pd.DataFrame(palavras_twitter).count()))\n",
    "\n"
   ]
  },
  {
   "cell_type": "code",
   "execution_count": 344,
   "metadata": {},
   "outputs": [],
   "source": [
    "# Executa função parecida com a mostcommon\n",
    "frequencia_twitter=busca_frequencia(palavras_twitter)"
   ]
  },
  {
   "cell_type": "code",
   "execution_count": 345,
   "metadata": {},
   "outputs": [],
   "source": [
    "palavras_unicas_twitter=busca_palavras_unicas(frequencia_twitter)"
   ]
  },
  {
   "cell_type": "code",
   "execution_count": 346,
   "metadata": {},
   "outputs": [],
   "source": [
    "# devido a necessidade de aplciação da função Extrato_Palavras sobre as bases de Treinamento e Teste, como a variável palavras_unicas_teste exige aplicação isolada, precisamos criar uma função apartada somente\n",
    "# para a base de teste\n",
    "def extrator_palavras_twitter(documento):\n",
    "    doc=set(documento)\n",
    "    caracteristicas={}\n",
    "    for palavras in palavras_unicas_twitter:\n",
    "        caracteristicas['%s' % palavras]=(palavras in doc)\n",
    "    return caracteristicas"
   ]
  },
  {
   "cell_type": "code",
   "execution_count": 347,
   "metadata": {},
   "outputs": [],
   "source": [
    "# Ver % twitter\n",
    "res=[]\n",
    "for teste in base_completa_twitter:\n",
    "    resultado=classificador.classify(teste[0])\n",
    "    res.append(resultado)"
   ]
  },
  {
   "cell_type": "code",
   "execution_count": 348,
   "metadata": {},
   "outputs": [
    {
     "name": "stdout",
     "output_type": "stream",
     "text": [
      "************************** Quantidade **************************\n",
      "alegria : 56\n",
      "tristeza : 44\n",
      "************************** Percentual **************************\n",
      "alegria : 56.0 %\n",
      "tristeza : 44.0 %\n"
     ]
    }
   ],
   "source": [
    "values, counta = np.unique(res, return_counts=True)\n",
    "total=counta[0]+counta[1]\n",
    "\n",
    "print (\"************************** Quantidade **************************\")\n",
    "print (values[0],\":\",counta[0])\n",
    "print (values[1],\":\",counta[1])\n",
    "\n",
    "print (\"************************** Percentual **************************\")\n",
    "print (values[0],\":\",round(counta[0]/total*100,2),\"%\")\n",
    "print (values[1],\":\",round(counta[1]/total*100,2),\"%\")\n"
   ]
  },
  {
   "cell_type": "code",
   "execution_count": 358,
   "metadata": {},
   "outputs": [
    {
     "data": {
      "image/png": "[encoded data removed]",
      "text/plain": [
       "<Figure size 432x288 with 1 Axes>"
      ]
     },
     "metadata": {
      "needs_background": "light"
     },
     "output_type": "display_data"
    }
   ],
   "source": [
    "Counta_perc=counta/total*100 #Transforma em %\n",
    "plt.bar(values, Counta_perc,color=\"red\")\n",
    "plt.title(\"% de sentimentos em relação a Iphone no Twitter\")\n",
    "plt.xlabel(\"Tipos de sentimento\")\n",
    "plt.show()"
   ]
  }
 ],
 "metadata": {
  "colab": {
   "collapsed_sections": [],
   "name": "LendoTwitter.ipynb",
   "provenance": []
  },
  "kernelspec": {
   "display_name": "Python 3",
   "language": "python",
   "name": "python3"
  },
  "language_info": {
   "codemirror_mode": {
    "name": "ipython",
    "version": 3
   },
   "file_extension": ".py",
   "mimetype": "text/x-python",
   "name": "python",
   "nbconvert_exporter": "python",
   "pygments_lexer": "ipython3",
   "version": "3.7.3"
  }
 },
 "nbformat": 4,
 "nbformat_minor": 1
}
